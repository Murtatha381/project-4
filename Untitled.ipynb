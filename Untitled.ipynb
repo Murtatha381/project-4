{
 "cells": [
  {
   "cell_type": "code",
   "execution_count": 1,
   "id": "581d65d3",
   "metadata": {},
   "outputs": [],
   "source": [
    "import pandas as pd"
   ]
  },
  {
   "cell_type": "code",
   "execution_count": 2,
   "id": "9dd43b68",
   "metadata": {},
   "outputs": [],
   "source": [
    "input_file = 'heart_attack_prediction_dataset.csv'\n",
    "output_file = 'output.csv'\n",
    "df = pd.read_csv(input_file)"
   ]
  },
  {
   "cell_type": "code",
   "execution_count": 3,
   "id": "d3266293",
   "metadata": {},
   "outputs": [],
   "source": [
    "df[['Systolic', 'Diastolic']] = df['Blood Pressure'].str.split('/', expand=True)\n",
    "df = df.drop('Blood Pressure', axis=1)"
   ]
  },
  {
   "cell_type": "code",
   "execution_count": 4,
   "id": "60657409",
   "metadata": {},
   "outputs": [],
   "source": [
    "df['Diet'] = pd.factorize(df['Diet'])[0]"
   ]
  },
  {
   "cell_type": "code",
   "execution_count": 5,
   "id": "2e664c71",
   "metadata": {},
   "outputs": [],
   "source": [
    "df['Continent'] = pd.factorize(df['Continent'])[0]"
   ]
  },
  {
   "cell_type": "code",
   "execution_count": 7,
   "id": "cd0e4b99",
   "metadata": {},
   "outputs": [],
   "source": [
    "df['Hemisphere'] = pd.factorize(df['Hemisphere'])[0]"
   ]
  },
  {
   "cell_type": "code",
   "execution_count": 8,
   "id": "bffe0461",
   "metadata": {},
   "outputs": [],
   "source": [
    "df['Sex'] = pd.factorize(df['Sex'])[0]"
   ]
  },
  {
   "cell_type": "code",
   "execution_count": 9,
   "id": "3f7b1a7c",
   "metadata": {},
   "outputs": [],
   "source": [
    "df['Country'] = pd.factorize(df['Country'])[0]"
   ]
  },
  {
   "cell_type": "code",
   "execution_count": 10,
   "id": "c2a0dccd",
   "metadata": {},
   "outputs": [],
   "source": [
    "df.to_csv(output_file, index=False)"
   ]
  },
  {
   "cell_type": "code",
   "execution_count": null,
   "id": "c5df7647",
   "metadata": {},
   "outputs": [],
   "source": []
  }
 ],
 "metadata": {
  "kernelspec": {
   "display_name": "Python 3 (ipykernel)",
   "language": "python",
   "name": "python3"
  },
  "language_info": {
   "codemirror_mode": {
    "name": "ipython",
    "version": 3
   },
   "file_extension": ".py",
   "mimetype": "text/x-python",
   "name": "python",
   "nbconvert_exporter": "python",
   "pygments_lexer": "ipython3",
   "version": "3.10.11"
  }
 },
 "nbformat": 4,
 "nbformat_minor": 5
}
